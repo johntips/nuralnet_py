{
 "cells": [
  {
   "cell_type": "code",
   "execution_count": null,
   "metadata": {},
   "outputs": [],
   "source": [
    "import numpy\n",
    "import scipy.special\n",
    "\n",
    "#import matplotlib.pyplot\n",
    "#%matplotlib inline\n",
    "\n",
    "class neuralNetwork:\n",
    "    \n",
    "    #i .init\n",
    "    def __init__(self, inputnodes, hiddennodes, outputnodes, learningrate):\n",
    "        # input, hidden, output nodes\n",
    "        self.i_nodes  = inputnodes\n",
    "        self.h_nodes = hiddennodes\n",
    "        self.o_nodes = outputnodes\n",
    "        \n",
    "        #1.settings  link weight matrix\n",
    "        \n",
    "        ## weight1(hidden * input) , \n",
    "        self.weight_hiddenToInput = numpy.random.normal(0.0, pow(self.h_nodes, -0.5),(self.h_nodes, self.i_nodes))\n",
    "        ## weight2(output * hidden)\n",
    "        self.weight_outoputToHidden = numpy.random.nomal(0.0, pow(self.o_nodes, -0.5), (self.o_nodes, self.h_nodes))\n",
    "\n",
    "        #2.settings  learning rate\n",
    "        self.learningrate = learningrate\n",
    "        \n",
    "        #3. activation function = sigmoid function\n",
    "        self.activation_function = lamdbda x:scipy.special.expit(x)\n",
    "            pass\n",
    "        \n",
    "        \n",
    "    #ii. train data method\n",
    "    def train(self, inputs_list, targets_list):\n",
    "        #fix list to matrix\n",
    "        inputs = numpy.array(inputs_list, ndmin=2).T\n",
    "        targets = numpy.array(targets_list, ndmin=2).T\n",
    "        \n",
    "        #calculate Tohidden inputs \n",
    "        hidden_inputs = numpy.dot(self.weight_hiddenToInput, inputs)\n",
    "        #get outputs  by activationfunction that jointed hidden layers\n",
    "        hidden_outputs= self.activation_function(hidden_inputs)\n",
    "        \n",
    "        #calculate toOutput \n",
    "        finish_inputs = numpy.dot(self.weight_outputToHidden, hidden_outputs)\n",
    "        #get outpus by activationfunction that jointed output layers\n",
    "        finish_outputs = self.activation_function(finish_inputs)\n",
    "        \n",
    "        # output errors = targets - final_outputs\n",
    "        output_errors = targets - final_outputs\n",
    "        \n",
    "        # separete hidden layer errors by link weight \n",
    "        hidden_errors = numpy.dot(self.weight_outputToHidden, output_errors)\n",
    "        \n",
    "        #update link weight between inputlayer and hiddenlayer\n",
    "        self.weight_hiddenToInput += self.learningrate * numpy.dot((output_errors * final_outputs * (1.0 - final_outputs)), numpy.transpose(hidden_outputs))\n",
    "         #update link weight between hiddenlayer and outputlayer\n",
    "        self.weight_outputToHidden += self.learningrate * numpy.dot((hidden_errors * hidden_outputs * (1.0 - hidden_outputs)), numpy.transpose(inputs))\n",
    "        \n",
    "        pass\n",
    "        "
   ]
  },
  {
   "cell_type": "markdown",
   "metadata": {},
   "source": []
  }
 ],
 "metadata": {
  "kernelspec": {
   "display_name": "Python 3",
   "language": "python",
   "name": "python3"
  },
  "language_info": {
   "codemirror_mode": {
    "name": "ipython",
    "version": 3
   },
   "file_extension": ".py",
   "mimetype": "text/x-python",
   "name": "python",
   "nbconvert_exporter": "python",
   "pygments_lexer": "ipython3",
   "version": "3.6.0"
  }
 },
 "nbformat": 4,
 "nbformat_minor": 2
}
